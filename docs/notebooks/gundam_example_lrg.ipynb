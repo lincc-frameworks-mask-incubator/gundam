{
 "cells": [
  {
   "cell_type": "markdown",
   "id": "textblock1",
   "metadata": {
    "cell_marker": "\"\"\""
   },
   "source": [
    "# Gundam Example LRG\n",
    "\n",
    "Example code to estimate a 2D projected correlation function using a sample of SDSS Luminous Red Galaxies."
   ]
  },
  {
   "cell_type": "code",
   "execution_count": null,
   "id": "1ed9923a",
   "metadata": {},
   "outputs": [],
   "source": [
    "from astropy.table import Table\n",
    "from gundam import gundam as gun"
   ]
  },
  {
   "cell_type": "code",
   "execution_count": null,
   "id": "824e3103",
   "metadata": {},
   "outputs": [],
   "source": [
    "# DEFINE PARAMETERS\n",
    "galf = \"../../tests/data/DR7-lrg.fits\"  # Galaxy sample\n",
    "ranf = \"../../tests/data/DR7-lrg-rand.fits\"  # Random sample\n",
    "outfn = \"../../tests/data/ex_LRG\"  # Name for output files"
   ]
  },
  {
   "cell_type": "code",
   "execution_count": null,
   "id": "codeblock1",
   "metadata": {},
   "outputs": [],
   "source": [
    "par = gun.packpars(kind=\"pcf\", file=galf, file1=ranf, outfn=outfn)\n",
    "par.autogrid = False  # Automatic SK grid size\n",
    "par.mxh1 = 60  # SK size in dec\n",
    "par.mxh2 = 240  # SK size in ra\n",
    "par.mxh3 = 24  # SK size in z\n",
    "par.nsepp = 78  # Number of bins of projected separation rp\n",
    "par.seppmin = 0.01  # Minimum rp in Mpc/h\n",
    "par.dsepp = 0.5  # Bin size of rp (in log space)\n",
    "par.logsepp = 0  # Use linear bins instead of log bins\n",
    "par.nsepv = 60  # Number of bins of LOS separation pi\n",
    "par.dsepv = 0.5  # Bin size of pi (in linear space)\n",
    "par.doboot = True  # Do bootstrap error estimates\n",
    "par.omegam = 0.25  # Omega matter\n",
    "par.omegal = 0.75  # Omega lambda\n",
    "par.h0 = 100  # Hubble constant [km/s/Mpc]\n",
    "par.calcdist = True  # Calculate comov. dist.\n",
    "par.estimator = \"LS\"  # Choose Landy-Szalay estimator for the PCF\n",
    "par.description = \"LumRedGxs\"  # Description label"
   ]
  },
  {
   "cell_type": "code",
   "execution_count": null,
   "id": "codeblock2",
   "metadata": {},
   "outputs": [],
   "source": [
    "# READ DATA FILES\n",
    "print(\"Reading file: \", galf)\n",
    "gals = Table.read(galf)\n",
    "if \"wei\" not in gals.colnames:\n",
    "    gals[\"wei\"] = 1.0  # If not present, set weights to 1\n",
    "\n",
    "print(\"Reading file: \", ranf)\n",
    "rans = Table.read(ranf)\n",
    "if \"wei\" not in rans.colnames:\n",
    "    rans[\"wei\"] = 1.0  # If not present, set weights to 1"
   ]
  },
  {
   "cell_type": "code",
   "execution_count": null,
   "id": "codeblock3",
   "metadata": {},
   "outputs": [],
   "source": [
    "# CALCULATE THE CORRELATION\n",
    "nt = 4  # Threads to use\n",
    "cnt = gun.pcf(gals, rans, par, nthreads=nt)"
   ]
  },
  {
   "cell_type": "code",
   "execution_count": null,
   "id": "c594e25e",
   "metadata": {},
   "outputs": [],
   "source": [
    "# NOW PLOT THE 2-DIMENSIONAL PCF\n",
    "gun.cntplot2D(cnt, write=True)"
   ]
  }
 ],
 "metadata": {
  "jupytext": {
   "cell_markers": "\"\"\""
  },
  "kernelspec": {
   "display_name": "Python 3",
   "language": "python",
   "name": "python3"
  },
  "language_info": {
   "codemirror_mode": {
    "name": "ipython",
    "version": 3
   },
   "file_extension": ".py",
   "mimetype": "text/x-python",
   "name": "python",
   "nbconvert_exporter": "python",
   "pygments_lexer": "ipython3",
   "version": "3.11.9"
  }
 },
 "nbformat": 4,
 "nbformat_minor": 5
}
