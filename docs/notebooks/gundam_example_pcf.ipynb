{
 "cells": [
  {
   "cell_type": "markdown",
   "id": "947b4883",
   "metadata": {},
   "source": [
    "# PCF"
   ]
  },
  {
   "cell_type": "code",
   "execution_count": null,
   "id": "eaaa691f",
   "metadata": {},
   "outputs": [],
   "source": [
    "import gundam as gun\n",
    "import numpy as np\n",
    "from astropy.table import Table\n",
    "\n",
    "# DEFINE PARAMETERS  ==========================================================\n",
    "galf = \"../../tests/data/DATA.fits\"  # Galaxy sample\n",
    "ranf = \"../../tests/data/RAND.fits\"  # Random sample\n",
    "\n",
    "par = gun.packpars(kind=\"pcf\")\n",
    "par.autogrid = True  # Automatic SK grid size\n",
    "par.mxh1 = 20  # SK size in dec\n",
    "par.mxh2 = 100  # SK size in ra\n",
    "par.mxh3 = 10  # SK size in z\n",
    "par.nsepp = 28  # Number of bins of projected separation rp\n",
    "par.seppmin = 0.02  # Minimum rp in Mpc/h\n",
    "par.dsepp = 0.12  # Bin size of rp (in log space)\n",
    "par.nsepv = 1  # Number of bins of LOS separation pi\n",
    "par.dsepv = 40.0  # Bin size of pi (in linear space)\n",
    "par.doboot = False  # Do bootstrap error estimates\n",
    "par.omegam = 0.25  # Omega matter\n",
    "par.omegal = 0.75  # Omega lambda\n",
    "par.h0 = 100  # Hubble constant [km/s/Mpc]\n",
    "par.calcdist = True  # Calculate comov. dist.\n",
    "par.estimator = \"NAT\"  # Choose Landy-Szalay estimator for the PCF"
   ]
  },
  {
   "cell_type": "code",
   "execution_count": null,
   "id": "b756fca1",
   "metadata": {},
   "outputs": [],
   "source": [
    "# READ DATA FILES  ============================================================\n",
    "gals = Table.read(galf)\n",
    "if \"wei\" not in gals.colnames:\n",
    "    gals[\"wei\"] = 1.0  # If not present, set weights to 1\n",
    "\n",
    "rans = Table.read(ranf)\n",
    "if \"wei\" not in rans.colnames:\n",
    "    rans[\"wei\"] = 1.0  # If not present, set weights to 1"
   ]
  },
  {
   "cell_type": "code",
   "execution_count": null,
   "id": "bc9d89c1",
   "metadata": {},
   "outputs": [],
   "source": [
    "num_rows = len(gals)\n",
    "random_indices = np.random.choice(num_rows, 8000, replace=False)\n",
    "gals = gals[random_indices]\n",
    "\n",
    "num_rows = len(rans)\n",
    "random_indices = np.random.choice(num_rows, 22000, replace=False)\n",
    "rans = rans[random_indices]"
   ]
  },
  {
   "cell_type": "code",
   "execution_count": null,
   "id": "2a09a8ac",
   "metadata": {},
   "outputs": [],
   "source": [
    "print(gals)"
   ]
  },
  {
   "cell_type": "code",
   "execution_count": null,
   "id": "bd9502e5",
   "metadata": {},
   "outputs": [],
   "source": [
    "print(rans)"
   ]
  },
  {
   "cell_type": "code",
   "execution_count": null,
   "id": "96c85289",
   "metadata": {},
   "outputs": [],
   "source": [
    "gals.write(\"../../tests/data/acf_gals_weight.fits\", overwrite=True)\n",
    "rans.write(\"../../tests/data/acf_rans_weight.fits\", overwrite=True)"
   ]
  },
  {
   "cell_type": "code",
   "execution_count": null,
   "id": "76a5ff18",
   "metadata": {},
   "outputs": [],
   "source": [
    "# ==============================================================================\n",
    "# CALCULATE THE CORRELATION\n",
    "nt = 1  # Threads to use\n",
    "cnt = gun.pcf(gals, rans, par, nthreads=nt, plot=True, write=False)\n",
    "# =============================================================================="
   ]
  },
  {
   "cell_type": "code",
   "execution_count": null,
   "id": "354f9331",
   "metadata": {},
   "outputs": [],
   "source": [
    "np.save(\"../../tests/data/dd_pcf.npy\", cnt.dd)\n",
    "np.save(\"../../tests/data/rr_pcf.npy\", cnt.rr)\n",
    "np.save(\"../../tests/data/w_pcf_nat.npy\", cnt.wrp)"
   ]
  },
  {
   "cell_type": "markdown",
   "id": "4727af7b",
   "metadata": {},
   "source": [
    "# PCF WITH WEIGHTS"
   ]
  },
  {
   "cell_type": "code",
   "execution_count": null,
   "id": "5a24c473",
   "metadata": {},
   "outputs": [],
   "source": [
    "import gundam as gun\n",
    "from astropy.table import Table\n",
    "import numpy as np\n",
    "\n",
    "# DEFINE PARAMETERS  ==========================================================\n",
    "galf = \"../../tests/data/DATA.fits\"  # Galaxy sample\n",
    "ranf = \"../../tests/data/RAND.fits\"  # Random sample\n",
    "\n",
    "par = gun.packpars(kind=\"pcf\")\n",
    "par.autogrid = False  # Automatic SK grid size\n",
    "par.mxh1 = 20  # SK size in dec\n",
    "par.mxh2 = 100  # SK size in ra\n",
    "par.mxh3 = 10  # SK size in z\n",
    "par.nsepp = 28  # Number of bins of projected separation rp\n",
    "par.seppmin = 0.02  # Minimum rp in Mpc/h\n",
    "par.dsepp = 0.12  # Bin size of rp (in log space)\n",
    "par.nsepv = 1  # Number of bins of LOS separation pi\n",
    "par.dsepv = 40.0  # Bin size of pi (in linear space)\n",
    "par.doboot = False  # Do bootstrap error estimates\n",
    "par.omegam = 0.25  # Omega matter\n",
    "par.omegal = 0.75  # Omega lambda\n",
    "par.h0 = 100  # Hubble constant [km/s/Mpc]\n",
    "par.calcdist = True  # Calculate comov. dist.\n",
    "par.wfib = False"
   ]
  },
  {
   "cell_type": "code",
   "execution_count": null,
   "id": "ba25a568",
   "metadata": {},
   "outputs": [],
   "source": [
    "gals = Table.read(galf)\n",
    "rans = Table.read(ranf)\n",
    "\n",
    "num_values = len(gals)\n",
    "mu, sigma = 0.5, 0.05\n",
    "np.random.seed(4321)\n",
    "gals_w = np.random.normal(mu, sigma, num_values)\n",
    "print(gals_w.max())\n",
    "print(gals_w.min())\n",
    "print(len(gals_w))\n",
    "print()\n",
    "num_values = len(rans)\n",
    "mu, sigma = 0.5, 0.095\n",
    "np.random.seed(5432)\n",
    "rans_w = np.random.normal(mu, sigma, num_values)\n",
    "print(rans_w.max())\n",
    "print(rans_w.min())\n",
    "print(len(rans_w))\n",
    "\n",
    "gals[\"wei\"] = gals_w\n",
    "rans[\"wei\"] = rans_w"
   ]
  },
  {
   "cell_type": "code",
   "execution_count": null,
   "id": "9c3c5369",
   "metadata": {},
   "outputs": [],
   "source": [
    "num_rows = len(gals)\n",
    "random_indices = np.random.choice(num_rows, 8000, replace=False)\n",
    "gals = gals[random_indices]\n",
    "\n",
    "num_rows = len(rans)\n",
    "random_indices = np.random.choice(num_rows, 22000, replace=False)\n",
    "rans = rans[random_indices]"
   ]
  },
  {
   "cell_type": "code",
   "execution_count": null,
   "id": "2e561a6b",
   "metadata": {},
   "outputs": [],
   "source": [
    "gals"
   ]
  },
  {
   "cell_type": "code",
   "execution_count": null,
   "id": "0cd8ecb1",
   "metadata": {},
   "outputs": [],
   "source": [
    "rans"
   ]
  },
  {
   "cell_type": "code",
   "execution_count": null,
   "id": "f1d418bc",
   "metadata": {},
   "outputs": [],
   "source": [
    "gals.write(\"../../tests/data/pcf_gals_weight.fits\", overwrite=True)\n",
    "rans.write(\"../../tests/data/pcf_rans_weight.fits\", overwrite=True)"
   ]
  },
  {
   "cell_type": "code",
   "execution_count": null,
   "id": "ba6f9484",
   "metadata": {},
   "outputs": [],
   "source": [
    "# ==============================================================================\n",
    "# CALCULATE THE CORRELATION\n",
    "nt = 1  # Threads to use\n",
    "cnt = gun.pcf(gals, rans, par, nthreads=nt, plot=True, write=False)\n",
    "# =============================================================================="
   ]
  },
  {
   "cell_type": "code",
   "execution_count": null,
   "id": "e8f18730",
   "metadata": {},
   "outputs": [],
   "source": [
    "np.save(\"../../tests/data/dd_pcf_weight.npy\", cnt.dd)\n",
    "np.save(\"../../tests/data/rr_pcf_weight.npy\", cnt.rr)\n",
    "np.save(\"../../tests/data/w_pcf_nat_weight.npy\", cnt.wrp)"
   ]
  },
  {
   "cell_type": "code",
   "execution_count": null,
   "id": "bbe80abd",
   "metadata": {},
   "outputs": [],
   "source": []
  }
 ],
 "metadata": {
  "jupytext": {
   "cell_markers": "\"\"\""
  },
  "kernelspec": {
   "display_name": "Python 3",
   "language": "python",
   "name": "python3"
  },
  "language_info": {
   "codemirror_mode": {
    "name": "ipython",
    "version": 3
   },
   "file_extension": ".py",
   "mimetype": "text/x-python",
   "name": "python",
   "nbconvert_exporter": "python",
   "pygments_lexer": "ipython3",
   "version": "3.11.9"
  }
 },
 "nbformat": 4,
 "nbformat_minor": 5
}
