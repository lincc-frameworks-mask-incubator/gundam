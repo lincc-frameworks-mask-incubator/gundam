{
 "cells": [
  {
   "cell_type": "code",
   "execution_count": null,
   "id": "codeblock1",
   "metadata": {},
   "outputs": [],
   "source": [
    "import gundam as gun\n",
    "from astropy.table import Table\n",
    "\n",
    "\n",
    "# DEFINE PARAMETERS  ==========================================================\n",
    "par = gun.packpars(kind=\"acf\")\n",
    "par.doboot = False  # Do bootstrap error estimates\n",
    "par.dsept = 0.10\n",
    "par.nsept = 33\n",
    "par.septmin = 0.01\n",
    "par.grid = 1\n",
    "par.estimator = \"NAT\"\n",
    "par.description = \"example01\"  # Description label\n",
    "par.autogrid = False\n",
    "\n",
    "# READ DATA FILES  ============================================================\n",
    "gals = Table.read(\"../../tests/data/DATA.fits\")\n",
    "gals = gals[[\"ra\", \"dec\"]]\n",
    "gals[\"wei\"] = 1.0\n",
    "\n",
    "rans = Table.read(\"../../tests/data/RAND.fits\")\n",
    "rans = rans[[\"ra\", \"dec\"]]\n",
    "rans[\"wei\"] = 1.0\n",
    "\n",
    "# ==============================================================================\n",
    "# CALCULATE THE CORRELATION\n",
    "nt = 1  # Threads to use\n",
    "cnt = gun.acf(gals, rans, par, nthreads=nt, plot=True, write=False)\n",
    "# =============================================================================="
   ]
  },
  {
   "cell_type": "code",
   "execution_count": null,
   "id": "5a5c0f06",
   "metadata": {},
   "outputs": [],
   "source": [
    "import numpy as np\n",
    "\n",
    "np.save(\"../../tests/data/dd_acf.npy\", cnt.dd)\n",
    "np.save(\"../../tests/data/rr_acf.npy\", cnt.rr)\n",
    "np.save(\"../../tests/data/w_acf_nat.npy\", cnt.wth)"
   ]
  },
  {
   "cell_type": "markdown",
   "id": "eaaa691f",
   "metadata": {},
   "source": [
    "# ACF WITH WEIGHTS"
   ]
  },
  {
   "cell_type": "code",
   "execution_count": null,
   "id": "445c1bf7",
   "metadata": {},
   "outputs": [],
   "source": [
    "import gundam as gun\n",
    "from astropy.table import Table\n",
    "import numpy as np\n",
    "\n",
    "\n",
    "# DEFINE PARAMETERS  ==========================================================\n",
    "par = gun.packpars(kind=\"acf\")\n",
    "par.doboot = False  # Do bootstrap error estimates\n",
    "par.dsept = 0.10\n",
    "par.nsept = 33\n",
    "par.septmin = 0.01\n",
    "par.estimator = \"NAT\"  # Choose Landy-Szalay estimator for the PCF\n",
    "par.description = \"example01\"  # Description label\n",
    "par.autogrid = False\n",
    "par.wfib = False\n",
    "par.grid = 1\n",
    "\n",
    "galf = \"../../tests/data/DATA.fits\"  # Galaxy sample\n",
    "ranf = \"../../tests/data/RAND.fits\"  # Random sample\n",
    "gals = Table.read(galf)\n",
    "rans = Table.read(ranf)\n",
    "\n",
    "num_values = len(gals)\n",
    "mu, sigma = 0.5, 0.05\n",
    "np.random.seed(4321)\n",
    "gals_w = np.random.normal(mu, sigma, num_values)\n",
    "print(gals_w.max())\n",
    "print(gals_w.min())\n",
    "print(len(gals_w))\n",
    "print()\n",
    "num_values = len(rans)\n",
    "mu, sigma = 0.5, 0.095\n",
    "np.random.seed(5432)\n",
    "rans_w = np.random.normal(mu, sigma, num_values)\n",
    "print(rans_w.max())\n",
    "print(rans_w.min())\n",
    "print(len(rans_w))\n",
    "\n",
    "gals[\"wei\"] = gals_w\n",
    "gals = gals[[\"ra\", \"dec\", \"wei\"]]\n",
    "rans[\"wei\"] = rans_w\n",
    "rans = rans[[\"ra\", \"dec\", \"wei\"]]\n",
    "\n",
    "num_rows = len(gals)\n",
    "random_indices = np.random.choice(num_rows, 8000, replace=False)\n",
    "gals = gals[random_indices]\n",
    "\n",
    "num_rows = len(rans)\n",
    "random_indices = np.random.choice(num_rows, 22000, replace=False)\n",
    "rans = rans[random_indices]\n",
    "\n",
    "# ==============================================================================\n",
    "# CALCULATE THE CORRELATION\n",
    "nt = 1  # Threads to use\n",
    "cnt = gun.acf(gals, rans, par, nthreads=nt, plot=True, write=False)\n",
    "# =============================================================================="
   ]
  },
  {
   "cell_type": "code",
   "execution_count": null,
   "id": "bc785ccc",
   "metadata": {},
   "outputs": [],
   "source": [
    "gals.write(\"../../tests/data/afc_gals_weight.fits\", overwrite=True)\n",
    "rans.write(\"../../tests/data/afc_rans_weight.fits\", overwrite=True)"
   ]
  },
  {
   "cell_type": "code",
   "execution_count": null,
   "id": "a7b78dc9",
   "metadata": {},
   "outputs": [],
   "source": [
    "np.save(\"../../tests/data/dd_acf_weight.npy\", cnt.dd)\n",
    "np.save(\"../../tests/data/rr_acf_weight.npy\", cnt.rr)\n",
    "np.save(\"../../tests/data/w_acf_nat_weight.npy\", cnt.wth)"
   ]
  },
  {
   "cell_type": "code",
   "execution_count": null,
   "id": "846d413d",
   "metadata": {},
   "outputs": [],
   "source": []
  },
  {
   "cell_type": "code",
   "execution_count": null,
   "id": "9a2204cc",
   "metadata": {},
   "outputs": [],
   "source": [
    "from astropy.table import Table\n",
    "import numpy as np\n",
    "\n",
    "gals = Table.read(\"../../tests/data/DATA.fits\")\n",
    "gals = gals[[\"ra\", \"dec\"]]\n",
    "\n",
    "\n",
    "num_values = len(gals)\n",
    "mu, sigma = 0.5, 0.095\n",
    "np.random.seed(5432)\n",
    "gals_w = np.random.normal(mu, sigma, num_values)\n",
    "\n",
    "\n",
    "gals[\"wei\"] = gals_w\n",
    "\n",
    "gals[\"wei\"] = 1.0  # If not present, set weights to 1\n",
    "\n",
    "gals = gals[[\"ra\", \"dec\", \"wei\"]]\n",
    "\n",
    "num_rows = len(gals)\n",
    "random_indices = np.random.choice(num_rows, 7000, replace=False)\n",
    "gals = gals[random_indices]"
   ]
  },
  {
   "cell_type": "code",
   "execution_count": null,
   "id": "0562f663",
   "metadata": {},
   "outputs": [],
   "source": [
    "gals.write(\"../../tests/data/afc_gals1.fits\", overwrite=True)"
   ]
  },
  {
   "cell_type": "code",
   "execution_count": null,
   "id": "e72d9d8a",
   "metadata": {},
   "outputs": [],
   "source": []
  }
 ],
 "metadata": {
  "jupytext": {
   "cell_markers": "\"\"\""
  },
  "kernelspec": {
   "display_name": "Python 3",
   "language": "python",
   "name": "python3"
  },
  "language_info": {
   "codemirror_mode": {
    "name": "ipython",
    "version": 3
   },
   "file_extension": ".py",
   "mimetype": "text/x-python",
   "name": "python",
   "nbconvert_exporter": "python",
   "pygments_lexer": "ipython3",
   "version": "3.1.undefined"
  }
 },
 "nbformat": 4,
 "nbformat_minor": 5
}
