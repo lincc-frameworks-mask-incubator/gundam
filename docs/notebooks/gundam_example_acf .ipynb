{
 "cells": [
  {
   "cell_type": "markdown",
   "id": "textblock1",
   "metadata": {
    "cell_marker": "\"\"\""
   },
   "source": [
    "# Gundam Example LRG\n",
    "\n",
    "Example code to estimate a 2D projected correlation function using a sample of SDSS Luminous Red Galaxies."
   ]
  },
  {
   "cell_type": "code",
   "execution_count": 8,
   "id": "codeblock1",
   "metadata": {},
   "outputs": [
    {
     "name": "stdout",
     "output_type": "stream",
     "text": [
      "Missing outfn: default to run001\n",
      "START!   06/21/24  13:36:18\n"
     ]
    },
    {
     "name": "stdout",
     "output_type": "stream",
     "text": [
      "Name of output set to : run001\n",
      "Calling Information  ================================================\n",
      "table        = \n",
      "table_nrows  = 84383\n",
      "table1       = \n",
      "table1_nrows = 227336\n",
      "nthreads     = 1\n",
      "write        = False\n",
      "plot         = False\n",
      "=====================================================================\n",
      "Sample boundaries : (0.00000, 360.00000, -3.75118, 70.25317)\n",
      "Sample seems to cross RA=0 : False\n",
      "Autogrid OFF\n",
      "SK grid size [dec,ra]       : [20, 20]\n",
      "SK grid1 size [dec,ra]      : [20, 20]\n",
      "Pixsort time (s)            : 0.078\n",
      "SK-LL tables build time (s) : 0.754\n",
      "====  Counting DD pairs in 20 DEC strips  =====\n",
      "      [for progress updates check run001.fortran.log]\n",
      "  \n",
      "Done with DD calculations. Looptime (s) : 13.502\n",
      "====  Counting DD pairs in  20 DEC strips  ====\n",
      "   1   2   3   4   5   6   7   8   9  10  11  12  13  14  15  16  17  18  19  20  \n",
      "====  Counting RR pairs in 20 DEC strips  =====\n",
      "      [for progress updates check run001.fortran.log]\n",
      "Done with RR calculations. Looptime (s) : 128.694\n",
      "  \n",
      "====  Counting RR pairs in  20 DEC strips  ====\n",
      "   1   2   3   4   5   6   7   8   9  10  11  12  13  14  15  16  17  18  19  20  \n",
      "Computing 3d/angular correlation function.....[tpcf()]\n",
      "DONE!   06/21/24  13:38:42\n",
      "Loop | Total time (s)       : 142.20 | 143.15\n"
     ]
    }
   ],
   "source": [
    "import gundam as gun\n",
    "from astropy.table import Table\n",
    "\n",
    "\n",
    "# DEFINE PARAMETERS  ==========================================================\n",
    "par = gun.packpars(kind=\"acf\")\n",
    "par.doboot = False  # Do bootstrap error estimates\n",
    "par.dsept = 0.10\n",
    "par.nsept = 33\n",
    "par.septmin = 0.01\n",
    "par.grid = 1\n",
    "par.estimator = \"NAT\"  # Choose Landy-Szalay estimator for the PCF\n",
    "par.description = \"example01\"  # Description label\n",
    "par.autogrid = False\n",
    "\n",
    "# READ DATA FILES  ============================================================\n",
    "gals = Table.read(\"../../tests/data/DATA.fits\")\n",
    "gals = gals[[\"ra\", \"dec\"]]\n",
    "gals[\"wei\"] = 1.0\n",
    "\n",
    "rans = Table.read(\"../../tests/data/RAND.fits\")\n",
    "rans = rans[[\"ra\", \"dec\"]]\n",
    "rans[\"wei\"] = 1.0\n",
    "\n",
    "# ==============================================================================\n",
    "# CALCULATE THE CORRELATION\n",
    "nt = 1  # Threads to use\n",
    "cnt = gun.acf(gals, rans, par, nthreads=nt, plot=False, write=False)\n",
    "# ==============================================================================\n"
   ]
  },
  {
   "cell_type": "code",
   "execution_count": 11,
   "id": "c3e6996e",
   "metadata": {},
   "outputs": [
    {
     "name": "stdout",
     "output_type": "stream",
     "text": [
      "Pretty printing has been turned ON\n"
     ]
    }
   ],
   "source": [
    "print(cnt.par)"
   ]
  },
  {
   "cell_type": "code",
   "execution_count": 27,
   "id": "5a5c0f06",
   "metadata": {},
   "outputs": [],
   "source": [
    "import numpy as np\n",
    "\n",
    "np.save('../../tests/data/dd_acf.npy', cnt.dd)\n",
    "np.save('../../tests/data/rr_acf.npy', cnt.rr)\n",
    "np.save('../../tests/data/w_acf_nat.npy', cnt.wth)"
   ]
  },
  {
   "cell_type": "code",
   "execution_count": 30,
   "id": "c594e25e",
   "metadata": {},
   "outputs": [
    {
     "name": "stdout",
     "output_type": "stream",
     "text": [
      "0.0\n",
      "0.0\n",
      "0.0\n"
     ]
    }
   ],
   "source": [
    "print(np.sum(cnt.dd - np.load('../../tests/data/dd_acf.npy')))\n",
    "print(np.sum(cnt.rr - np.load('../../tests/data/rr_acf.npy')))\n",
    "print(np.sum(cnt.wth - np.load('../../tests/data/w_acf_nat.npy')))"
   ]
  },
  {
   "cell_type": "code",
   "execution_count": 1,
   "id": "d3bba206",
   "metadata": {},
   "outputs": [],
   "source": [
    "import gundam as gun\n",
    "from astropy.table import Table\n",
    "import numpy as np\n",
    "from munch import Munch\n",
    "\n",
    "\n",
    "# DEFINE PARAMETERS  ==========================================================\n",
    "par = Munch()\n",
    "par.dsept = 0.10\n",
    "par.nsept = 33\n",
    "par.septmin = 0.01\n",
    "par.estimator = \"NAT\"  # Choose Landy-Szalay estimator for the PCF\n",
    "\n",
    "# READ DATA FILES  ============================================================\n",
    "gals = Table.read(\"../../tests/data/DATA.fits\")\n",
    "gals = gals[[\"ra\", \"dec\"]]\n",
    "\n",
    "rans = Table.read(\"../../tests/data/RAND.fits\")\n",
    "rans = rans[[\"ra\", \"dec\"]]\n",
    "# ==============================================================================\n",
    "# CALCULATE THE CORRELATION\n",
    "dd, rr, wth = gun.acf_naiveway(gals['ra'].data, gals['dec'].data, rans['ra'].data, rans['dec'].data, par)\n",
    "# =============================================================================="
   ]
  },
  {
   "cell_type": "code",
   "execution_count": 31,
   "id": "a3638217",
   "metadata": {},
   "outputs": [
    {
     "name": "stdout",
     "output_type": "stream",
     "text": [
      "0.0\n",
      "0.0\n",
      "0.0\n"
     ]
    }
   ],
   "source": [
    "print(np.sum(dd - cnt.dd))\n",
    "print(np.sum(rr - cnt.rr))\n",
    "print(np.sum(wth - cnt.wth))"
   ]
  },
  {
   "cell_type": "code",
   "execution_count": 8,
   "id": "05a87de4",
   "metadata": {},
   "outputs": [
    {
     "name": "stdout",
     "output_type": "stream",
     "text": [
      "0.0\n",
      "0.0\n",
      "0.0\n"
     ]
    }
   ],
   "source": [
    "print(np.sum(dd - np.load('../../tests/data/dd_acf.npy')))\n",
    "print(np.sum(rr - np.load('../../tests/data/rr_acf.npy')))\n",
    "print(np.sum(wth - np.load('../../tests/data/w_acf_nat.npy')))"
   ]
  },
  {
   "cell_type": "code",
   "execution_count": 3,
   "id": "2a76b628",
   "metadata": {},
   "outputs": [
    {
     "data": {
      "text/plain": [
       "array([9.15000000e+02, 1.33600000e+03, 1.75000000e+03, 2.61900000e+03,\n",
       "       3.55300000e+03, 4.96900000e+03, 7.02300000e+03, 9.86100000e+03,\n",
       "       1.38990000e+04, 1.99230000e+04, 2.83680000e+04, 3.96120000e+04,\n",
       "       5.70030000e+04, 7.99690000e+04, 1.13296000e+05, 1.60199000e+05,\n",
       "       2.31993000e+05, 3.38254000e+05, 4.99530000e+05, 7.50321000e+05,\n",
       "       1.13553400e+06, 1.73301300e+06, 2.64083900e+06, 4.02869000e+06,\n",
       "       6.18941500e+06, 9.46402900e+06, 1.44341790e+07, 2.20575820e+07,\n",
       "       3.37935260e+07, 5.12908750e+07, 7.66605560e+07, 1.13662244e+08,\n",
       "       1.66670601e+08])"
      ]
     },
     "execution_count": 3,
     "metadata": {},
     "output_type": "execute_result"
    }
   ],
   "source": [
    "dd"
   ]
  },
  {
   "cell_type": "code",
   "execution_count": 4,
   "id": "54403fd4",
   "metadata": {},
   "outputs": [
    {
     "data": {
      "text/plain": [
       "array([6.23000000e+02, 1.04400000e+03, 1.63000000e+03, 2.60000000e+03,\n",
       "       4.18200000e+03, 6.48100000e+03, 1.05790000e+04, 1.63410000e+04,\n",
       "       2.58780000e+04, 4.12280000e+04, 6.56310000e+04, 1.04604000e+05,\n",
       "       1.63916000e+05, 2.59321000e+05, 4.08985000e+05, 6.50041000e+05,\n",
       "       1.02906600e+06, 1.62381300e+06, 2.56846300e+06, 4.05438200e+06,\n",
       "       6.39578000e+06, 1.00895510e+07, 1.58876700e+07, 2.49918200e+07,\n",
       "       3.92535390e+07, 6.15647820e+07, 9.62923910e+07, 1.50134370e+08,\n",
       "       2.32991661e+08, 3.59157494e+08, 5.49585169e+08, 8.31881878e+08,\n",
       "       1.23739900e+09])"
      ]
     },
     "execution_count": 4,
     "metadata": {},
     "output_type": "execute_result"
    }
   ],
   "source": [
    "rr"
   ]
  },
  {
   "cell_type": "code",
   "execution_count": 5,
   "id": "ef374e5d",
   "metadata": {},
   "outputs": [
    {
     "data": {
      "text/plain": [
       "array([ 9.66013708e+00,  8.28828861e+00,  6.79256056e+00,  6.31125435e+00,\n",
       "        5.16653103e+00,  4.56489171e+00,  3.81845484e+00,  3.37997943e+00,\n",
       "        2.89836580e+00,  2.50745582e+00,  2.13725225e+00,  1.74857898e+00,\n",
       "        1.52409739e+00,  1.23827642e+00,  1.01065213e+00,  7.88746484e-01,\n",
       "        6.36294210e-01,  5.11947353e-01,  4.11620653e-01,  3.43235554e-01,\n",
       "        2.88654123e-01,  2.46693579e-01,  2.06455914e-01,  1.70026527e-01,\n",
       "        1.44459761e-01,  1.15766861e-01,  8.80024119e-02,  6.63690176e-02,\n",
       "        5.27442373e-02,  3.65372583e-02,  1.24339556e-02, -8.29088625e-03,\n",
       "       -2.23599533e-02])"
      ]
     },
     "execution_count": 5,
     "metadata": {},
     "output_type": "execute_result"
    }
   ],
   "source": [
    "wth"
   ]
  },
  {
   "cell_type": "code",
   "execution_count": null,
   "id": "eaaa691f",
   "metadata": {},
   "outputs": [],
   "source": []
  }
 ],
 "metadata": {
  "jupytext": {
   "cell_markers": "\"\"\""
  },
  "kernelspec": {
   "display_name": "Python 3",
   "language": "python",
   "name": "python3"
  },
  "language_info": {
   "codemirror_mode": {
    "name": "ipython",
    "version": 3
   },
   "file_extension": ".py",
   "mimetype": "text/x-python",
   "name": "python",
   "nbconvert_exporter": "python",
   "pygments_lexer": "ipython3",
   "version": "3.10.14"
  }
 },
 "nbformat": 4,
 "nbformat_minor": 5
}
